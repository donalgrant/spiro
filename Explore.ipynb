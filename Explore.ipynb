{
 "cells": [
  {
   "cell_type": "code",
   "execution_count": 1,
   "id": "3fbdd5d3-9463-4c2c-94cf-c8bd322331f1",
   "metadata": {
    "tags": []
   },
   "outputs": [],
   "source": [
    "from SpiroData import *\n",
    "from SpiroDraw import *\n",
    "from spiro import *\n",
    "from Ellipse import *\n",
    "from spiro_ellipse import *"
   ]
  },
  {
   "cell_type": "code",
   "execution_count": 2,
   "id": "1e683317-1ebe-42cf-afc1-678b50fe1b07",
   "metadata": {
    "tags": []
   },
   "outputs": [],
   "source": [
    "S = SpiroData()\n",
    "F = SpiroFig()"
   ]
  },
  {
   "cell_type": "code",
   "execution_count": 45,
   "id": "d90075a9-b824-4022-8831-2c99bc57ded9",
   "metadata": {},
   "outputs": [],
   "source": [
    "import matplotlib as mpl\n",
    "from matplotlib.colors import ListedColormap, LinearSegmentedColormap\n",
    "cmap = LinearSegmentedColormap.from_list(\"RedOrangePink\",[\"Red\",\"Orange\",\"Pink\"])"
   ]
  },
  {
   "cell_type": "code",
   "execution_count": null,
   "id": "48c66c11-f07b-4f90-9015-af32156bce7f",
   "metadata": {},
   "outputs": [],
   "source": []
  }
 ],
 "metadata": {
  "kernelspec": {
   "display_name": "Python 3 (ipykernel)",
   "language": "python",
   "name": "python3"
  },
  "language_info": {
   "codemirror_mode": {
    "name": "ipython",
    "version": 3
   },
   "file_extension": ".py",
   "mimetype": "text/x-python",
   "name": "python",
   "nbconvert_exporter": "python",
   "pygments_lexer": "ipython3",
   "version": "3.11.3"
  }
 },
 "nbformat": 4,
 "nbformat_minor": 5
}
