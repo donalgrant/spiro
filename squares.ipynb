{
 "cells": [
  {
   "cell_type": "code",
   "execution_count": 1,
   "id": "a48ede3d-9148-42fe-88cc-99ec495d4fdb",
   "metadata": {
    "tags": []
   },
   "outputs": [],
   "source": [
    "from SpiroData import *\n",
    "from SpiroDraw import *\n",
    "from spiro import *"
   ]
  },
  {
   "cell_type": "code",
   "execution_count": 2,
   "id": "7a56e74b-cce0-476b-9eda-a2025f599af5",
   "metadata": {
    "tags": []
   },
   "outputs": [
    {
     "ename": "TypeError",
     "evalue": "SpiroFig.plot() missing 1 required positional argument: 'sd'",
     "output_type": "error",
     "traceback": [
      "\u001b[0;31m---------------------------------------------------------------------------\u001b[0m",
      "\u001b[0;31mTypeError\u001b[0m                                 Traceback (most recent call last)",
      "Cell \u001b[0;32mIn[2], line 2\u001b[0m\n\u001b[1;32m      1\u001b[0m f\u001b[38;5;241m=\u001b[39mSpiroFig\n\u001b[0;32m----> 2\u001b[0m f\u001b[38;5;241m.\u001b[39mplot(spiro_square(R\u001b[38;5;241m=\u001b[39m\u001b[38;5;241m64\u001b[39m,wheel\u001b[38;5;241m=\u001b[39mWheel(\u001b[38;5;241m8\u001b[39m,\u001b[38;5;241m8\u001b[39m),loops\u001b[38;5;241m=\u001b[39m\u001b[38;5;241m10\u001b[39m,inside\u001b[38;5;241m=\u001b[39m\u001b[38;5;28;01mTrue\u001b[39;00m),new_fig\u001b[38;5;241m=\u001b[39m\u001b[38;5;28;01mTrue\u001b[39;00m)\n",
      "\u001b[0;31mTypeError\u001b[0m: SpiroFig.plot() missing 1 required positional argument: 'sd'"
     ]
    }
   ],
   "source": [
    "f=SpiroFig\n",
    "f.plot(spiro_square(R=64,wheel=Wheel(8,8),loops=10,inside=True),new_fig=True)"
   ]
  },
  {
   "cell_type": "code",
   "execution_count": null,
   "id": "b2cf4c99-75f3-42d9-adad-d056fd627de6",
   "metadata": {
    "tags": []
   },
   "outputs": [],
   "source": [
    "f.plot(spiro_square(20,Wheel(4,3.5),orient=0,loops=20,fold=False,inside=False),new_fig=True)\n",
    "f.plot(spiro_square(20,Wheel(4,3.5),orient=0,loops=20,fold=False,inside=True),new_fig=False)"
   ]
  },
  {
   "cell_type": "code",
   "execution_count": null,
   "id": "57089f09-79a6-4bda-bbcd-cddf492c51ce",
   "metadata": {
    "tags": []
   },
   "outputs": [],
   "source": [
    "f.plot(spiro_square(23,Wheel(4,3.5),orient=pi/4,loops=20,fold=False,inside=False),new_fig=True)\n",
    "f.plot(spiro_square(10,Wheel(2.5,7.5),orient=pi/2,loops=20,fold=False,inside=True),new_fig=False)"
   ]
  },
  {
   "cell_type": "code",
   "execution_count": null,
   "id": "a70eef00-52de-4497-8c1c-14eace3e9b97",
   "metadata": {
    "tags": []
   },
   "outputs": [],
   "source": [
    "f.plot(spiro_square(20,Wheel(4,3.5),loops=20,fold=False,inside=True),new_fig=True)"
   ]
  },
  {
   "cell_type": "code",
   "execution_count": null,
   "id": "29892cd3-b3c2-4c74-8291-232c2d8a3bad",
   "metadata": {
    "tags": []
   },
   "outputs": [],
   "source": [
    "f.plot(spiro_square(30,Wheel(5,7),loops=30,fold=True),color_scheme='polar',cmap='hsv',new_fig=True)"
   ]
  },
  {
   "cell_type": "code",
   "execution_count": null,
   "id": "d1e07c12-cca1-4a8d-b0b7-49f210655a17",
   "metadata": {},
   "outputs": [],
   "source": []
  }
 ],
 "metadata": {
  "kernelspec": {
   "display_name": "Python 3 (ipykernel)",
   "language": "python",
   "name": "python3"
  },
  "language_info": {
   "codemirror_mode": {
    "name": "ipython",
    "version": 3
   },
   "file_extension": ".py",
   "mimetype": "text/x-python",
   "name": "python",
   "nbconvert_exporter": "python",
   "pygments_lexer": "ipython3",
   "version": "3.11.3"
  }
 },
 "nbformat": 4,
 "nbformat_minor": 5
}
